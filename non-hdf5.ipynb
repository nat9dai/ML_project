{
 "cells": [
  {
   "cell_type": "code",
   "execution_count": null,
   "metadata": {},
   "outputs": [],
   "source": [
    "import tensorflow as tf\n",
    "#check the version of tensorflow, make sure it version 2.0 and above\n",
    "print (tf.__version__)"
   ]
  },
  {
   "cell_type": "code",
   "execution_count": null,
   "metadata": {},
   "outputs": [],
   "source": [
    "#import pillow\n",
    "from PIL import Image\n",
    "from random import shuffle, choice\n",
    "#import numpy arrays libraries\n",
    "import numpy as np\n",
    "#import operating system library\n",
    "import os\n",
    "\n",
    "#import keras and its libraries\n",
    "from tensorflow.keras import datasets, layers, models\n",
    "\n",
    "os.environ['KMP_DUPLICATE_LIB_OK']='True'"
   ]
  },
  {
   "cell_type": "code",
   "execution_count": null,
   "metadata": {},
   "outputs": [],
   "source": [
    "IMAGE_SIZE = 224\n",
    "\n",
    "def one_hot_encode(class_name):\n",
    "    if class_name == 'cats': return np.array([1, 0])\n",
    "    elif class_name == 'notcats' : return np.array([0, 1])"
   ]
  },
  {
   "cell_type": "code",
   "execution_count": null,
   "metadata": {},
   "outputs": [],
   "source": [
    "IMAGE_DIRECTORY = 'dataset/training_set'\n",
    "def load_data(IMAGE_DIRECTORY, number_of_images=100,shuffle_data=True):\n",
    "    print(\"Loading images...\")\n",
    "    train_data = []\n",
    "    folders = next(os.walk(IMAGE_DIRECTORY))[1]\n",
    "\n",
    "    for folder_name in folders:\n",
    "        print(\"Loading {0}\".format(folder_name))\n",
    "        file_names = next(os.walk(os.path.join(IMAGE_DIRECTORY, folder_name)))[2]\n",
    "\n",
    "        for i in range(number_of_images):\n",
    "            image_name = choice(file_names)\n",
    "            image_path = os.path.join(IMAGE_DIRECTORY, folder_name, image_name)\n",
    "            #print(image_path)\n",
    "            label = one_hot_encode(folder_name)\n",
    "            class_name=folder_name\n",
    "            if \"DS_Store\" not in image_path:\n",
    "                img = Image.open(image_path)\n",
    "                img = img.convert('L') # convert into grey scale\n",
    "                # img = img.resize((IMAGE_SIZE, IMAGE_SIZE), Image.ANTIALIAS)\n",
    "                # ANTIALIAS was removeed in Pillow 10.0.0\n",
    "                # https://stackoverflow.com/questions/76616042/attributeerror-module-pil-image-has-no-attribute-antialias\n",
    "                img = img.resize((IMAGE_SIZE, IMAGE_SIZE), Image.LANCZOS)\n",
    "                train_data.append([np.array(img), label,class_name])\n",
    "    \n",
    "    if (shuffle_data==True):\n",
    "        shuffle(train_data)\n",
    "    print('we loaded ',len(train_data),'images in the training dataset')\n",
    "    return train_data"
   ]
  }
 ],
 "metadata": {
  "language_info": {
   "name": "python"
  }
 },
 "nbformat": 4,
 "nbformat_minor": 2
}
