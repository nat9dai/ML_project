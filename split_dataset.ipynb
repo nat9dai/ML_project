{
 "cells": [
  {
   "cell_type": "code",
   "execution_count": 1,
   "metadata": {},
   "outputs": [
    {
     "name": "stderr",
     "output_type": "stream",
     "text": [
      "2024-02-02 11:22:46.182584: I tensorflow/core/platform/cpu_feature_guard.cc:182] This TensorFlow binary is optimized to use available CPU instructions in performance-critical operations.\n",
      "To enable the following instructions: SSE4.1 SSE4.2 AVX AVX2 FMA, in other operations, rebuild TensorFlow with the appropriate compiler flags.\n"
     ]
    }
   ],
   "source": [
    "import h5py\n",
    "import numpy as np\n",
    "import sys\n",
    "\n",
    "from sklearn.preprocessing import LabelBinarizer\n",
    "from sklearn.model_selection import train_test_split\n",
    "from sklearn.metrics import classification_report\n",
    "from sklearn.metrics import confusion_matrix\n",
    "from tensorflow.keras.utils import to_categorical"
   ]
  },
  {
   "cell_type": "code",
   "execution_count": 2,
   "metadata": {},
   "outputs": [],
   "source": [
    "from anis_koubaa_udemy_computer_vision_lib import *"
   ]
  },
  {
   "cell_type": "code",
   "execution_count": 3,
   "metadata": {},
   "outputs": [],
   "source": [
    "from pathlib import Path\n",
    "\n",
    "IMAGE_SIZE=224"
   ]
  },
  {
   "cell_type": "code",
   "execution_count": 4,
   "metadata": {},
   "outputs": [],
   "source": [
    "#CHANGE THESE PATHS ACCORDING TO THE PATH IN YOUR SYSTEM\n",
    "DATASET_PATH='dataset-realwaste-hierarchical'\n",
    "H5DATASET_FOLDER='/home/nat/DL_in_practice/ML_project/h5-dataset-realwaste-flat/'\n",
    "#HDF5_DATASET_PATH=H5DATASET_FOLDER+'realwaste-dataset-SIZE'+str(IMAGE_SIZE)+'.hdf5'\n",
    "#HDF5_TARGET_DATASET_PATH=H5DATASET_FOLDER+'realwaste-dataset-SIZE'+str(IMAGE_SIZE)+'.hdf5.csv'\n",
    "HDF5_DATASET_PATH=H5DATASET_FOLDER+'h5-dataset-realwaste-flatrealwaste-dataset-SIZE524.hdf5'\n",
    "HDF5_TARGET_DATASET_PATH=H5DATASET_FOLDER+'h5-dataset-realwaste-flatrealwaste-dataset-SIZE524.hdf5.csv'"
   ]
  },
  {
   "cell_type": "code",
   "execution_count": 5,
   "metadata": {},
   "outputs": [],
   "source": [
    "#read dataset\n",
    "hf = h5py.File(HDF5_DATASET_PATH, \"r\")"
   ]
  },
  {
   "cell_type": "code",
   "execution_count": 6,
   "metadata": {},
   "outputs": [],
   "source": [
    "class_label_string_length=\"S36\""
   ]
  },
  {
   "cell_type": "code",
   "execution_count": 7,
   "metadata": {},
   "outputs": [],
   "source": [
    "#extract labels\n",
    "labels_in_ascii = np.array(hf[\"labels\"]).astype(class_label_string_length)\n",
    "#print (labels)"
   ]
  },
  {
   "cell_type": "code",
   "execution_count": 8,
   "metadata": {},
   "outputs": [
    {
     "ename": "",
     "evalue": "",
     "output_type": "error",
     "traceback": [
      "\u001b[1;31mThe Kernel crashed while executing code in the the current cell or a previous cell. Please review the code in the cell(s) to identify a possible cause of the failure. Click <a href='https://aka.ms/vscodeJupyterKernelCrash'>here</a> for more info. View Jupyter <a href='command:jupyter.viewOutput'>log</a> for further details."
     ]
    }
   ],
   "source": [
    "data = np.array(hf[\"images\"]).astype(\"f8\")"
   ]
  },
  {
   "cell_type": "code",
   "execution_count": null,
   "metadata": {},
   "outputs": [],
   "source": [
    "#get labels in string format: decode from ASCII\n",
    "labels = [n.decode('unicode_escape') for n in labels_in_ascii]\n",
    "#print(asciiList)\n",
    "print ('number of labels:',len(labels))"
   ]
  },
  {
   "cell_type": "code",
   "execution_count": null,
   "metadata": {},
   "outputs": [],
   "source": [
    "np.unique(labels)"
   ]
  },
  {
   "cell_type": "code",
   "execution_count": null,
   "metadata": {},
   "outputs": [],
   "source": [
    "#use this method if you want to select a sample of data uniformly distributed\n",
    "def select_uniformly_distributed_data_sample(data,labels, class_dict, max_number_of_images=10):\n",
    "    sample_data=[]\n",
    "    sample_labels=[]\n",
    "    for i,image in enumerate(data):\n",
    "        \n",
    "        label=labels[i]\n",
    "        #print(label)\n",
    "        #print(class_dict[label])\n",
    "        if (class_dict[label]<max_number_of_images):\n",
    "            #print(label)\n",
    "            sample_data.append(image)\n",
    "            sample_labels.append(label)\n",
    "            class_dict[label]=class_dict[label]+1\n",
    "    to_continue=False\n",
    "    for x,y in class_dict.items():\n",
    "        if y<max_number_of_images:\n",
    "            to_continue==True\n",
    "    #print(to_continue)\n",
    "    if to_continue==False:\n",
    "        return np.array(sample_data), np.array(sample_labels),class_dict"
   ]
  },
  {
   "cell_type": "code",
   "execution_count": null,
   "metadata": {},
   "outputs": [],
   "source": [
    "class_dict = {}\n",
    "for car_class in np.unique(labels):\n",
    "    class_dict[car_class]=0\n",
    "    #print (class_dict)\n",
    "print(class_dict)"
   ]
  },
  {
   "cell_type": "code",
   "execution_count": null,
   "metadata": {},
   "outputs": [],
   "source": [
    "\n",
    "#sample_data, sample_labels,class_dict=select_uniformly_distributed_data_sample(data,labels,class_dict, max_number_of_images=80)"
   ]
  },
  {
   "cell_type": "code",
   "execution_count": null,
   "metadata": {},
   "outputs": [],
   "source": [
    "#use this method if you want to use the whole dataset as is without balancing the classes\n",
    "sample_data, sample_labels,class_dict = data,np.array(labels),class_dict"
   ]
  },
  {
   "cell_type": "code",
   "execution_count": null,
   "metadata": {},
   "outputs": [],
   "source": [
    "print(sample_data.shape)\n",
    "print(sample_labels.shape)\n",
    "print(class_dict)"
   ]
  },
  {
   "cell_type": "code",
   "execution_count": null,
   "metadata": {},
   "outputs": [],
   "source": [
    "plot_sample_from_dataset(sample_data, sample_labels,rows=6, colums=4, width=20,height=30)"
   ]
  },
  {
   "cell_type": "code",
   "execution_count": null,
   "metadata": {},
   "outputs": [],
   "source": [
    "test_split_ratio=0.1\n",
    "(trainX, testX, trainLabels, testLabels) = train_test_split(sample_data, sample_labels,test_size=test_split_ratio, stratify=sample_labels, random_state=42)\n",
    "\n",
    "# perform one-hot encoding on the labels\n",
    "print (\"sample of train labels: \", trainLabels[:4])\n",
    "lb = LabelBinarizer()\n",
    "train_binary_labels = lb.fit_transform(trainLabels)\n",
    "print (\"sample of train_binary_labels after Binarizer: \\n\", train_binary_labels[:4])\n",
    "\n",
    "\n",
    "print (\"sample of test labels: \", testLabels[:4])\n",
    "test_binary_labels = lb.fit_transform(testLabels)\n",
    "print (\"sample of test_binary_labels after Binarizer: \\n\", test_binary_labels[:4])\n",
    "\n",
    "trainY=train_binary_labels\n",
    "testY=test_binary_labels\n",
    "\n",
    "print(\"trainX.shape: \",trainX.shape)\n",
    "print(\"trainY.shape: \",trainY.shape)\n",
    "print(\"testX.shape: \",testX.shape)\n",
    "print(\"testY.shape: \",testY.shape)"
   ]
  },
  {
   "cell_type": "code",
   "execution_count": null,
   "metadata": {},
   "outputs": [],
   "source": [
    "print(lb.classes_)"
   ]
  },
  {
   "cell_type": "code",
   "execution_count": null,
   "metadata": {},
   "outputs": [],
   "source": [
    "#print(\"testX.shape: \",testX.shape)\n",
    "#print(\"testLabels.shape: \",np.array(testLabels).shape)\n",
    "\n",
    "dev_test_ratio=0.5\n",
    "(devX, testX, devLabels, testLabels) = train_test_split(testX, testLabels,test_size=dev_test_ratio, stratify=testLabels, random_state=42)\n",
    "\n",
    "# perform one-hot encoding on the labels\n",
    "print (\"sample of dev labels: \", devLabels[:4])\n",
    "lb = LabelBinarizer()\n",
    "train_binary_labels = lb.fit_transform(devLabels)\n",
    "print (\"sample of dev_binary_labels after Binarizer: \\n\", train_binary_labels[:4])\n",
    "\n",
    "\n",
    "print (\"sample of test labels: \", testLabels[:4])\n",
    "test_binary_labels = lb.fit_transform(testLabels)\n",
    "print (\"sample of test_binary_labels after Binarizer: \\n\", test_binary_labels[:4])\n",
    "\n",
    "devY=train_binary_labels\n",
    "testY=test_binary_labels\n",
    "\n",
    "print(\"devX.shape: \",devX.shape)\n",
    "print(\"devY.shape: \",devY.shape)\n",
    "print(\"testX.shape: \",testX.shape)\n",
    "print(\"testY.shape: \",testY.shape)"
   ]
  },
  {
   "cell_type": "code",
   "execution_count": null,
   "metadata": {},
   "outputs": [],
   "source": [
    "import h5py\n",
    "hf=h5py.File(HDF5_TARGET_DATASET_PATH, 'w')"
   ]
  },
  {
   "cell_type": "code",
   "execution_count": null,
   "metadata": {},
   "outputs": [],
   "source": [
    "hf.create_dataset(\"trainX\",\n",
    "                  shape=trainX.shape,\n",
    "                  maxshape=trainX.shape,\n",
    "                  compression=\"gzip\",\n",
    "                  compression_opts=9,\n",
    "                  data=trainX)"
   ]
  },
  {
   "cell_type": "code",
   "execution_count": null,
   "metadata": {},
   "outputs": [],
   "source": [
    "hf.create_dataset(\"trainY\",\n",
    "                  shape=trainY.shape,\n",
    "                  maxshape=trainY.shape,\n",
    "                  compression=\"gzip\",\n",
    "                  compression_opts=9,\n",
    "                  data=trainY)"
   ]
  },
  {
   "cell_type": "code",
   "execution_count": null,
   "metadata": {},
   "outputs": [],
   "source": [
    "hf.create_dataset(\"devX\",\n",
    "                  shape=devX.shape,\n",
    "                  maxshape=devX.shape,\n",
    "                  compression=\"gzip\",\n",
    "                  compression_opts=9,\n",
    "                  data=devX)"
   ]
  },
  {
   "cell_type": "code",
   "execution_count": null,
   "metadata": {},
   "outputs": [],
   "source": [
    "hf.create_dataset(\"devY\",\n",
    "                  shape=devY.shape,\n",
    "                  maxshape=devY.shape,\n",
    "                  compression=\"gzip\",\n",
    "                  compression_opts=9,\n",
    "                  data=devY)"
   ]
  },
  {
   "cell_type": "code",
   "execution_count": null,
   "metadata": {},
   "outputs": [],
   "source": [
    "hf.create_dataset(\"testX\",\n",
    "                  shape=testX.shape,\n",
    "                  maxshape=testX.shape,\n",
    "                  compression=\"gzip\",\n",
    "                  compression_opts=9,\n",
    "                  data=testX)"
   ]
  },
  {
   "cell_type": "code",
   "execution_count": null,
   "metadata": {},
   "outputs": [],
   "source": [
    "hf.create_dataset(\"testY\",\n",
    "                  shape=testY.shape,\n",
    "                  maxshape=testY.shape,\n",
    "                  compression=\"gzip\",\n",
    "                  compression_opts=9,\n",
    "                  data=testY)"
   ]
  },
  {
   "cell_type": "code",
   "execution_count": null,
   "metadata": {},
   "outputs": [],
   "source": [
    "train_labels_ascii= [n.encode('unicode_escape') for n in trainLabels]\n",
    "dev_labels_ascii= [n.encode('unicode_escape') for n in devLabels]\n",
    "test_labels_ascii= [n.encode('unicode_escape') for n in testLabels]\n",
    "\n",
    "#print(train_labels_ascii)"
   ]
  },
  {
   "cell_type": "code",
   "execution_count": null,
   "metadata": {},
   "outputs": [],
   "source": [
    "hf.create_dataset(\"trainLabels\",\n",
    "            shape=np.array(trainLabels).shape,\n",
    "            compression=\"gzip\",\n",
    "            compression_opts=9,\n",
    "            data=train_labels_ascii,dtype=class_label_string_length\n",
    "            )"
   ]
  },
  {
   "cell_type": "code",
   "execution_count": null,
   "metadata": {},
   "outputs": [],
   "source": [
    "hf.create_dataset(\"devLabels\",\n",
    "            shape=np.array(devLabels).shape,\n",
    "            compression=\"gzip\",\n",
    "            compression_opts=9,\n",
    "            data=dev_labels_ascii,dtype=class_label_string_length\n",
    "            )"
   ]
  },
  {
   "cell_type": "code",
   "execution_count": null,
   "metadata": {},
   "outputs": [],
   "source": [
    "hf.create_dataset(\"testLabels\",\n",
    "            shape=np.array(testLabels).shape,\n",
    "            compression=\"gzip\",\n",
    "            compression_opts=9,\n",
    "            data=test_labels_ascii,dtype=class_label_string_length\n",
    "            )"
   ]
  },
  {
   "cell_type": "code",
   "execution_count": null,
   "metadata": {},
   "outputs": [],
   "source": [
    "hf.close()"
   ]
  }
 ],
 "metadata": {
  "kernelspec": {
   "display_name": "tf-gpu",
   "language": "python",
   "name": "python3"
  },
  "language_info": {
   "codemirror_mode": {
    "name": "ipython",
    "version": 3
   },
   "file_extension": ".py",
   "mimetype": "text/x-python",
   "name": "python",
   "nbconvert_exporter": "python",
   "pygments_lexer": "ipython3",
   "version": "3.11.5"
  }
 },
 "nbformat": 4,
 "nbformat_minor": 2
}
